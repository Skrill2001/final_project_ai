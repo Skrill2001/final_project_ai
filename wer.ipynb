{
 "cells": [
  {
   "cell_type": "code",
   "execution_count": 1,
   "metadata": {},
   "outputs": [
    {
     "name": "stdout",
     "output_type": "stream",
     "text": [
      "0.18117190866006033\n"
     ]
    }
   ],
   "source": [
    "import json\n",
    "import jiwer\n",
    "\n",
    "preds = json.load(open(\"/cpfs04/user/cuiziyun/rzd/pred_whisper.json\"))\n",
    "refs = json.load(open(\"/cpfs04/user/cuiziyun/rzd/refs.json\"))\n",
    "wer = jiwer.wer(refs, preds)\n",
    "print(wer)"
   ]
  }
 ],
 "metadata": {
  "kernelspec": {
   "display_name": "salmonn",
   "language": "python",
   "name": "python3"
  },
  "language_info": {
   "codemirror_mode": {
    "name": "ipython",
    "version": 3
   },
   "file_extension": ".py",
   "mimetype": "text/x-python",
   "name": "python",
   "nbconvert_exporter": "python",
   "pygments_lexer": "ipython3",
   "version": "3.10.18"
  }
 },
 "nbformat": 4,
 "nbformat_minor": 2
}
